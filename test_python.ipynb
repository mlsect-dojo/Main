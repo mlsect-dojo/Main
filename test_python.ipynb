{
 "cells": [
  {
   "cell_type": "markdown",
   "metadata": {},
   "source": [
    "# Тестовое по Python"
   ]
  },
  {
   "cell_type": "markdown",
   "metadata": {},
   "source": [
    "В качестве тестового предлагается несколько задач на pandas, numpy и matplotlib - базовые библиотеки, используемые в ходе ML разработки\n",
    "\n",
    "Если вы не встречались с этими библиотеками раньше, то это отличный повод их изучить до или во время выполнения заданий"
   ]
  },
  {
   "cell_type": "markdown",
   "metadata": {},
   "source": [
    "## numpy"
   ]
  },
  {
   "cell_type": "code",
   "execution_count": 1,
   "metadata": {},
   "outputs": [],
   "source": [
    "import numpy as np"
   ]
  },
  {
   "cell_type": "markdown",
   "metadata": {},
   "source": [
    "### 1. Cоздание и индексация n-мерных массивов\n",
    "\n",
    "Создать двухмерный массив случайных чисел [-9; 9] размера (10, 10). Заменить все -3<x<5 элементы такого массива на единицы, показать массив до и после замены"
   ]
  },
  {
   "cell_type": "markdown",
   "metadata": {},
   "source": [
    "### 2. Умножение матриц\n",
    "Даны вектор и матрица (размер задайте сами), найти в матрице столбец(=вектор), имеющий минимальное косинусное расстояние с исходным вектором. Результат вывести, проверить корректность расчёта"
   ]
  },
  {
   "cell_type": "markdown",
   "metadata": {},
   "source": [
    "### 3. Умножение векторов\n",
    "Пусть импульс - это функция, определённая на R принимающая значение 1 на [a; b], а на остальной области определения равная нулю\n",
    "\n",
    "Есть два импульса: \n",
    "    - [4, 5]\n",
    "    - [1, 2], но его область определения ограничена - [0, 3]\n",
    "   \n",
    "Изучить операцию [свёртки](https://ru.wikipedia.org/wiki/Свёртка_(математический_анализ)) и сделать свёртку первого импульса вторым, показать результат свёртки. Первая гифка приведённой статьи в помощь"
   ]
  },
  {
   "cell_type": "markdown",
   "metadata": {},
   "source": [
    "## Pandas"
   ]
  },
  {
   "cell_type": "code",
   "execution_count": 5,
   "metadata": {},
   "outputs": [],
   "source": [
    "import pandas as pd"
   ]
  },
  {
   "cell_type": "markdown",
   "metadata": {},
   "source": [
    "Для выполнения задания используйте классический датасет [Titanic](https://www.kaggle.com/c/titanic/data)"
   ]
  },
  {
   "cell_type": "markdown",
   "metadata": {},
   "source": [
    "### 1. Groupby\n",
    "\n",
    "Сгруппировать пассажиров по полу, подумать над смыслом полученных значений в сгруппированной табличке"
   ]
  },
  {
   "cell_type": "markdown",
   "metadata": {},
   "source": [
    "### 2. Средние\n",
    "\n",
    "Посчитать среднюю цену билета по датасету, найти 75ый [процентиль](https://ru.wikipedia.org/wiki/Квантиль) цен в датасете"
   ]
  },
  {
   "cell_type": "markdown",
   "metadata": {},
   "source": [
    "### 3. Фильтрация\n",
    "\n",
    "Разбить таблицу по 75ому процентилю цены билета, сравнить выживаемость в первой и второй половине"
   ]
  },
  {
   "cell_type": "markdown",
   "metadata": {},
   "source": [
    "# Matplotlib"
   ]
  },
  {
   "cell_type": "code",
   "execution_count": 7,
   "metadata": {},
   "outputs": [],
   "source": [
    "import matplotlib.pyplot as plt"
   ]
  },
  {
   "cell_type": "markdown",
   "metadata": {},
   "source": [
    "### 1. Гистограммы\n",
    "\n",
    "- Постройте гистограмму по массиву из 200 случайных чисел\n",
    "- Сделайте то же, но с 200 случайными числами, имеющими нормальное распределение\n",
    "- (Со звёздочкой) Сгенерируйте нормальное распределение, не используя функции генерации чисел с нормальным распределением"
   ]
  },
  {
   "cell_type": "markdown",
   "metadata": {},
   "source": [
    "### 2. Проиллюстрируйте задачи по numpy"
   ]
  },
  {
   "cell_type": "markdown",
   "metadata": {},
   "source": [
    "### 3. Scatter plot "
   ]
  },
  {
   "attachments": {},
   "cell_type": "markdown",
   "metadata": {},
   "source": [
    " - Сгенерируйте 3 кластера двумерных данных.\n",
    " \n",
    "    Кластер - объединение данных с похожими признаками. Например, нам необходимо посчитать средний балл егэ по какому-то предмету(для определенности, математики) среди учеников 11 класса. \n",
    "    Мы можем рассматривать 3 класса(физмат, химбио и гум) как 3 кластера данных.\n",
    "    \n",
    " - Отразите эти данные на плоскости с помощью метода scatter. \n",
    " \n",
    " У вас должна получиться картинка, наподобие представленной ниже\n",
    " \n",
    " ![img](https://www.r-graph-gallery.com/img/graph/274-map-a-variable-to-ggplot2-scatterplot.png)"
   ]
  },
  {
   "cell_type": "code",
   "execution_count": null,
   "metadata": {},
   "outputs": [],
   "source": []
  }
 ],
 "metadata": {
  "kernelspec": {
   "display_name": "Python 3",
   "language": "python",
   "name": "python3"
  },
  "language_info": {
   "codemirror_mode": {
    "name": "ipython",
    "version": 3
   },
   "file_extension": ".py",
   "mimetype": "text/x-python",
   "name": "python",
   "nbconvert_exporter": "python",
   "pygments_lexer": "ipython3",
   "version": "3.7.6"
  }
 },
 "nbformat": 4,
 "nbformat_minor": 4
}
